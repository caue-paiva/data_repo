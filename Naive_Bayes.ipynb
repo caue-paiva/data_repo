{
  "cells": [
    {
      "cell_type": "markdown",
      "metadata": {
        "id": "DnM5JLthlhLK"
      },
      "source": [
        "#Naive Bayes\n",
        "\n",
        "*Aula criada por [Lucas de Souza Brandão](https://t.me/bombril80) e [Miller Anacleto Rocha Lima](https://t.me/MillerAnacleto).*\n",
        "\n",
        "Esse material foi desenvolvido pelo **Data**, grupo de extensão de aprendizado em ciência de dados compostos por alunos do Instituto de Ciências Matemáticas e de Computação da USP.\n",
        "\n",
        "Para saber mais sobre as atividades do Data, nos siga em [nossas redes sociais](https://linktr.ee/dataicmc).\n"
      ]
    },
    {
      "cell_type": "markdown",
      "metadata": {
        "id": "gDuJyJ1EXjTS"
      },
      "source": [
        "#Problema\n",
        "\n"
      ]
    },
    {
      "cell_type": "markdown",
      "metadata": {
        "id": "2G4HPWQWD2_M"
      },
      "source": [
        "Temos alguns dados sobre o clima de um dia e se é uma boa ideia jogar futebol neste dia ou não."
      ]
    },
    {
      "cell_type": "code",
      "execution_count": 44,
      "metadata": {
        "colab": {
          "base_uri": "https://localhost:8080/",
          "height": 488
        },
        "id": "sbBXxQqaXhww",
        "outputId": "e273d99b-c40f-4d70-c420-7ca5728da407"
      },
      "outputs": [
        {
          "data": {
            "text/html": [
              "<div>\n",
              "<style scoped>\n",
              "    .dataframe tbody tr th:only-of-type {\n",
              "        vertical-align: middle;\n",
              "    }\n",
              "\n",
              "    .dataframe tbody tr th {\n",
              "        vertical-align: top;\n",
              "    }\n",
              "\n",
              "    .dataframe thead th {\n",
              "        text-align: right;\n",
              "    }\n",
              "</style>\n",
              "<table border=\"1\" class=\"dataframe\">\n",
              "  <thead>\n",
              "    <tr style=\"text-align: right;\">\n",
              "      <th></th>\n",
              "      <th>Aparência</th>\n",
              "      <th>Temperatura</th>\n",
              "      <th>Umidade</th>\n",
              "      <th>Vento</th>\n",
              "      <th>Jogar Futebol?</th>\n",
              "    </tr>\n",
              "  </thead>\n",
              "  <tbody>\n",
              "    <tr>\n",
              "      <th>0</th>\n",
              "      <td>Ensolarado</td>\n",
              "      <td>Quente</td>\n",
              "      <td>Alta</td>\n",
              "      <td>Fraco</td>\n",
              "      <td>Não</td>\n",
              "    </tr>\n",
              "    <tr>\n",
              "      <th>1</th>\n",
              "      <td>Ensolarado</td>\n",
              "      <td>Quente</td>\n",
              "      <td>Alta</td>\n",
              "      <td>Forte</td>\n",
              "      <td>Não</td>\n",
              "    </tr>\n",
              "    <tr>\n",
              "      <th>2</th>\n",
              "      <td>Nublado</td>\n",
              "      <td>Quente</td>\n",
              "      <td>Alta</td>\n",
              "      <td>Fraco</td>\n",
              "      <td>Sim</td>\n",
              "    </tr>\n",
              "    <tr>\n",
              "      <th>3</th>\n",
              "      <td>Chuvoso</td>\n",
              "      <td>Moderado</td>\n",
              "      <td>Alta</td>\n",
              "      <td>Fraco</td>\n",
              "      <td>Sim</td>\n",
              "    </tr>\n",
              "    <tr>\n",
              "      <th>4</th>\n",
              "      <td>Chuvoso</td>\n",
              "      <td>Frio</td>\n",
              "      <td>Normal</td>\n",
              "      <td>Fraco</td>\n",
              "      <td>Sim</td>\n",
              "    </tr>\n",
              "    <tr>\n",
              "      <th>5</th>\n",
              "      <td>Chuvoso</td>\n",
              "      <td>Frio</td>\n",
              "      <td>Normal</td>\n",
              "      <td>Forte</td>\n",
              "      <td>Não</td>\n",
              "    </tr>\n",
              "    <tr>\n",
              "      <th>6</th>\n",
              "      <td>Nublado</td>\n",
              "      <td>Frio</td>\n",
              "      <td>Normal</td>\n",
              "      <td>Forte</td>\n",
              "      <td>Sim</td>\n",
              "    </tr>\n",
              "    <tr>\n",
              "      <th>7</th>\n",
              "      <td>Ensolarado</td>\n",
              "      <td>Moderado</td>\n",
              "      <td>Alta</td>\n",
              "      <td>Fraco</td>\n",
              "      <td>Não</td>\n",
              "    </tr>\n",
              "    <tr>\n",
              "      <th>8</th>\n",
              "      <td>Ensolarado</td>\n",
              "      <td>Frio</td>\n",
              "      <td>Normal</td>\n",
              "      <td>Fraco</td>\n",
              "      <td>Sim</td>\n",
              "    </tr>\n",
              "    <tr>\n",
              "      <th>9</th>\n",
              "      <td>Chuvoso</td>\n",
              "      <td>Moderado</td>\n",
              "      <td>Normal</td>\n",
              "      <td>Fraco</td>\n",
              "      <td>Sim</td>\n",
              "    </tr>\n",
              "    <tr>\n",
              "      <th>10</th>\n",
              "      <td>Ensolarado</td>\n",
              "      <td>Moderado</td>\n",
              "      <td>Normal</td>\n",
              "      <td>Forte</td>\n",
              "      <td>Sim</td>\n",
              "    </tr>\n",
              "    <tr>\n",
              "      <th>11</th>\n",
              "      <td>Nublado</td>\n",
              "      <td>Moderado</td>\n",
              "      <td>Alta</td>\n",
              "      <td>Forte</td>\n",
              "      <td>Sim</td>\n",
              "    </tr>\n",
              "    <tr>\n",
              "      <th>12</th>\n",
              "      <td>Nublado</td>\n",
              "      <td>Quente</td>\n",
              "      <td>Normal</td>\n",
              "      <td>Fraco</td>\n",
              "      <td>Sim</td>\n",
              "    </tr>\n",
              "    <tr>\n",
              "      <th>13</th>\n",
              "      <td>Chuvoso</td>\n",
              "      <td>Moderado</td>\n",
              "      <td>Alta</td>\n",
              "      <td>Forte</td>\n",
              "      <td>Não</td>\n",
              "    </tr>\n",
              "  </tbody>\n",
              "</table>\n",
              "</div>"
            ],
            "text/plain": [
              "     Aparência Temperatura Umidade  Vento Jogar Futebol?\n",
              "0   Ensolarado      Quente    Alta  Fraco            Não\n",
              "1   Ensolarado      Quente    Alta  Forte            Não\n",
              "2      Nublado      Quente    Alta  Fraco            Sim\n",
              "3      Chuvoso    Moderado    Alta  Fraco            Sim\n",
              "4      Chuvoso        Frio  Normal  Fraco            Sim\n",
              "5      Chuvoso        Frio  Normal  Forte            Não\n",
              "6      Nublado        Frio  Normal  Forte            Sim\n",
              "7   Ensolarado    Moderado    Alta  Fraco            Não\n",
              "8   Ensolarado        Frio  Normal  Fraco            Sim\n",
              "9      Chuvoso    Moderado  Normal  Fraco            Sim\n",
              "10  Ensolarado    Moderado  Normal  Forte            Sim\n",
              "11     Nublado    Moderado    Alta  Forte            Sim\n",
              "12     Nublado      Quente  Normal  Fraco            Sim\n",
              "13     Chuvoso    Moderado    Alta  Forte            Não"
            ]
          },
          "execution_count": 44,
          "metadata": {},
          "output_type": "execute_result"
        }
      ],
      "source": [
        "import pandas as pd\n",
        "\n",
        "d = {'Aparência': ['Ensolarado', 'Ensolarado', 'Nublado', 'Chuvoso','Chuvoso','Chuvoso', 'Nublado', 'Ensolarado', 'Ensolarado', 'Chuvoso', 'Ensolarado', 'Nublado', 'Nublado', 'Chuvoso'],\n",
        "     'Temperatura': ['Quente', 'Quente','Quente','Moderado','Frio','Frio','Frio','Moderado','Frio','Moderado','Moderado','Moderado','Quente','Moderado'],\n",
        "     'Umidade':['Alta','Alta','Alta','Alta','Normal','Normal','Normal','Alta','Normal','Normal','Normal','Alta','Normal','Alta'],\n",
        "     'Vento':['Fraco','Forte','Fraco','Fraco','Fraco','Forte','Forte','Fraco','Fraco','Fraco','Forte','Forte','Fraco','Forte'],\n",
        "     'Jogar Futebol?':['Não','Não','Sim','Sim','Sim','Não','Sim','Não','Sim','Sim','Sim','Sim','Sim','Não']}\n",
        "\n",
        "df = pd.DataFrame(data=d)\n",
        "df"
      ]
    },
    {
      "cell_type": "markdown",
      "metadata": {
        "id": "kVMT4kO3Dw2b"
      },
      "source": [
        "**Problema: se o dia estiver com aparência *Ensolarado*, temperatura *Moderado*, umidade *Alta* e vento *Forte*, devo jogar futebol?**\n",
        "\n",
        "Essa informação não está no nosso conjunto de dados, então devemos fazer uma previsão.\n",
        "\n",
        "Esse é um problema de classificação binária, em que, dadas algumas informações, devemos classificar o item em uma de duas classes.\n",
        "\n",
        "Como os dados que temos já estão rotulados (para algumas combinações de aparência, temperatura, umidade e vento já sabemos se deve-se jogar futebol ou não), esse problema é de aprendizado supervisionado.\n",
        "\n",
        "Entre modelos de aprendizado supervisionado que fazem classificação binária, temos:\n",
        "\n",
        "\n",
        "*   KNN\n",
        "*   Regressão Logística\n",
        "*   Perceptron\n",
        "*   Support Vector Machines\n",
        "*   Decision Trees\n",
        "*   Naive Bayes\n",
        "\n",
        "Assim, veremos como utilizar Naive Bayes para resolver esse tipo de problema, suas vantagens e desvantagens em relação a outros modelos."
      ]
    },
    {
      "cell_type": "markdown",
      "metadata": {
        "id": "p5CGWVL4W-n0"
      },
      "source": [
        "#Teorema de Bayes"
      ]
    },
    {
      "cell_type": "markdown",
      "metadata": {
        "id": "rs_H8J1SXBEn"
      },
      "source": [
        "Naive Bayes é uma interpretação ingênua (*naive* em inglês) do teorema de Bayes. Mas o que é o teorema de Bayes?\n",
        "\n",
        "**Teorema de Bayes:**\n",
        "$$P(\\text{Y} | \\text{X}) = \\frac{P(\\text{X} | \\text{Y}) P(\\text{Y})}{P(\\text{X})}$$\n"
      ]
    },
    {
      "cell_type": "markdown",
      "metadata": {
        "id": "u2oEb8YYYVrt"
      },
      "source": [
        "**O que é X?**\n",
        "> X são as features. No nosso exemplo, X seria a combinação de aparência, temperatura, umidade e vento."
      ]
    },
    {
      "cell_type": "markdown",
      "metadata": {
        "id": "2ghyjuIpaBk6"
      },
      "source": [
        "**O que é Y?**\n",
        "> Y são as labels. No nosso exemplo, seria a coluna *Jogar Futebol?*."
      ]
    },
    {
      "cell_type": "markdown",
      "metadata": {
        "id": "G_wZAhlJaBWg"
      },
      "source": [
        "**O que é P?**\n",
        "> P significa distribuição. P(Y) é a distribuição de Y, ou seja, a frequência de cada valor de Y.\n",
        "\n",
        "> Podemos interpretar P(Y=y) como a probabilidade de y ocorrer.\n",
        "\n",
        "> No nosso exemplo, P(Y) é:\n"
      ]
    },
    {
      "cell_type": "code",
      "execution_count": 45,
      "metadata": {
        "colab": {
          "base_uri": "https://localhost:8080/",
          "height": 447
        },
        "id": "rOIa4l2fO_vO",
        "outputId": "521bccf9-9162-440b-81af-50cddc05d666"
      },
      "outputs": [
        {
          "data": {
            "text/plain": [
              "<Axes: >"
            ]
          },
          "execution_count": 45,
          "metadata": {},
          "output_type": "execute_result"
        },
        {
          "data": {
            "image/png": "[encoded data removed]",
            "text/plain": [
              "<Figure size 640x480 with 1 Axes>"
            ]
          },
          "metadata": {},
          "output_type": "display_data"
        }
      ],
      "source": [
        "df['Jogar Futebol?'].hist()"
      ]
    },
    {
      "cell_type": "markdown",
      "metadata": {
        "id": "-s4nd7bgfIbr"
      },
      "source": [
        "**O que é P(Y|X) e P(X|Y)?**\n",
        "> P(Y|X) representa a distruibuição condicional. Significa a probabilidade de Y dado X. Isso é relevante para casos em que um evento altera a probabilidade do outro. Por exemplo, se a aparência do dia é ensolarada, a probabilidade da temperatura ser quente é maior do que a probabilidade da temperatura ser quente desconsiderando a aparência.\n",
        "\n",
        "$$P(\\text{Temperatura = Quente}) < {P(\\text{Temperatura = Quente} | \\text{Aparência = Ensolarado})}$$"
      ]
    },
    {
      "cell_type": "markdown",
      "metadata": {
        "id": "MxSRPLMolg_3"
      },
      "source": [
        "**Distribuição Conjunta**\n",
        ">Define a probabilidade de dois eventos ocorrerem simultâneamente. É denotado por P(X,Y).\n",
        "\n",
        ">Se os eventos são independentes:\n",
        "$$P(\\text{X,Y}) = {P(\\text{X})* P(\\text{Y})}$$\n",
        "\n",
        ">Se são dependentes:\n",
        "$$P(\\text{X,Y}) = {P(\\text{X} | \\text{Y})* P(\\text{Y}) }$$\n",
        "$$P(\\text{X,Y}) = {P(\\text{Y} | \\text{X})* P(\\text{X}) }$$"
      ]
    },
    {
      "cell_type": "markdown",
      "metadata": {
        "id": "6NdViQn-nrtd"
      },
      "source": [
        "**Teorema de Bayes**\n",
        "$$P(\\text{X,Y}) = P(\\text{X,Y}) $$\n",
        "\n",
        "$${P(\\text{Y} | \\text{X})* P(\\text{X}) } = {P(\\text{X} | \\text{Y})* P(\\text{Y}) }$$\n",
        "\n",
        "\n",
        "$$P(\\text{Y} | \\text{X}) = \\frac{P(\\text{X} | \\text{Y}) P(\\text{Y})}{P(\\text{X})}$$\n",
        "\n",
        "O teorema de Bayes calcula a probabilidade de ocorrer um evento Y dado um evento X.\n",
        "\n",
        "Em Machine Learning, isso é o que queremos descobrir. Por exemplo, dados valores de temperatura, aparência, umidade e vento, queremos saber se deve-se jogar futebol ou não."
      ]
    },
    {
      "cell_type": "markdown",
      "metadata": {
        "id": "mZFhztfFpUJh"
      },
      "source": [
        "#Naive Bayes"
      ]
    },
    {
      "cell_type": "markdown",
      "metadata": {
        "id": "eOApvLL7Zkzg"
      },
      "source": [
        "**Retomando, nosso problema é: \"se o dia estiver com aparência Ensolarado, temperatura Moderado, umidade Alta e vento Forte, devo jogar futebol?\".**\n",
        "\n",
        "Nesse caso, X são, na verdade, quatro valores. Então estamos calculando\n",
        "\n",
        "$${P(\\text{Y} | \\text{X}_1 \\text{, X}_2 \\text{, X}_3 \\text{, X}_4) }$$\n",
        "\n",
        "Sendo X fixo (*Ensolarado*, *Moderado*, *Alta* e *Forte*), precisamos saber Y. Para isso, vamos testar todos as j classes de Y (*Sim* e *Não*) e descobrir a classe C mais provável. Na equação a seguir, arg max retorna a classe Yj mais provável.\n",
        "\n",
        "$$C = \\text{arg}_{Yj} \\text{ max } {P(\\text{Y}_j | \\text{X}_1 \\text{, X}_2 \\text{, X}_3 \\text{, X}_4) }$$\n",
        "\n",
        "Para obter essa classe, devemos usar o teorema de Bayes. Assim,\n",
        "\n",
        "$$C = \\text{arg}_{Yj} \\text{ max }  \\frac{P(\\text{X}_1 {, X}_2 \\text{, X}_3 \\text{, X}_4| \\text{Y}_j) P(\\text{Y}_j)}{P(\\text{X}_1 {,X}_2 \\text{, X}_3 \\text{, X}_4)}$$\n",
        "\n",
        "Analisando os termos:\n",
        "\n",
        ">$${P(\\text{X}_1 {,X}_2 \\text{, X}_3 \\text{, X}_4)}$$\n",
        "Representa a probabilidade das features ocorrerem independente de qualquer valor de Y. Como X é fixo e o que vamos variar é Y, esse valor também é fixo e portanto não importa, visto que queremos apenas saber o valor Y que maximiza a probabilidade final. Dessa forma, não vamos calculá-lo.\n",
        "\n",
        ">$$P(\\text{Y}_j)$$\n",
        "Representa a probabilidade de Y tomar cada valor possível. Para obtê-lo, podemos contar quantas vezes cada valor aparece e dividir pelo total.\n",
        "\n",
        ">$$P(\\text{X}_1 \\text{, X}_2 \\text{, X}_3 \\text{, X}_4 | \\text{Y})$$\n",
        "Representa a probabilidade daquelas features ocorrerem, dado um valor de Y. Por exemplo, a chance de que o dia seja ensolarado, moderado, de umidade alta e vento forte sendo que não se deve jogar futebol. Tal valor é muito difícil de ser calculado, portanto faremos algo ingênuo."
      ]
    },
    {
      "cell_type": "markdown",
      "metadata": {
        "id": "d3Q1UUBpY72o"
      },
      "source": [
        "**Como calcular P(X1, X2, X3, X4|Y)?**\n",
        "\n",
        "Se X1, X2, X3 e X4 fossem eventos independentes, poderiamos assumir o seguinte:\n",
        "\n",
        "$$P(\\text{X}_1 \\text{, X}_2 \\text{, X}_3 \\text{, X}_4 | \\text{Y}) = P(\\text{X}_1| \\text{Y}) * P(\\text{X}_2| \\text{Y}) * P(\\text{X}_3| \\text{Y}) * P(\\text{X}_4| \\text{Y})$$\n",
        "\n",
        "Ingenuamente, vamos assumir que os valores de X são independentes, mesmo que não sejam. Essa é a interpretação ingênua do Teorema de Bayes que dá nome ao modelo.\n",
        "\n",
        "De maneira geral, para Naive Bayes:\n",
        "\n",
        "$$P(\\text{X}| \\text{Y}) = ∏_{i=1} P(\\text{X}_i {|Y})$$\n",
        "\n",
        "Dessa forma, o que realmente queremos computar é:\n",
        "\n",
        "$$C = \\text{arg}_{Yj} \\text{ max } {P(\\text{Y}_j)} * {∏_{i=1} P(\\text{X}_i {|Y}_j})$$"
      ]
    },
    {
      "cell_type": "markdown",
      "metadata": {
        "id": "RyWAGSSyltMH"
      },
      "source": [
        "#Resolvendo o Problema"
      ]
    },
    {
      "cell_type": "markdown",
      "metadata": {
        "id": "nmR5jVNPr7Jp"
      },
      "source": [
        "**Se o dia estiver com aparência Ensolarado, temperatura Moderado, umidade Alta e vento Forte, devo jogar futebol?**\n"
      ]
    },
    {
      "cell_type": "markdown",
      "metadata": {
        "id": "E_yaZFzYly4H"
      },
      "source": [
        "\n",
        "Para os dois valores de Y possíveis, vamos calcular\n",
        "\n",
        "$${P(\\text{Y}_j)} * {∏_{i=1}^4 P(\\text{X}_i {|Y}_j})$$"
      ]
    },
    {
      "cell_type": "code",
      "execution_count": 46,
      "metadata": {
        "colab": {
          "base_uri": "https://localhost:8080/",
          "height": 488
        },
        "id": "ikhMbAMJmSgw",
        "outputId": "6ab6a42c-b367-4545-c975-0c5a18a7760e"
      },
      "outputs": [
        {
          "data": {
            "text/html": [
              "<div>\n",
              "<style scoped>\n",
              "    .dataframe tbody tr th:only-of-type {\n",
              "        vertical-align: middle;\n",
              "    }\n",
              "\n",
              "    .dataframe tbody tr th {\n",
              "        vertical-align: top;\n",
              "    }\n",
              "\n",
              "    .dataframe thead th {\n",
              "        text-align: right;\n",
              "    }\n",
              "</style>\n",
              "<table border=\"1\" class=\"dataframe\">\n",
              "  <thead>\n",
              "    <tr style=\"text-align: right;\">\n",
              "      <th></th>\n",
              "      <th>Aparência</th>\n",
              "      <th>Temperatura</th>\n",
              "      <th>Umidade</th>\n",
              "      <th>Vento</th>\n",
              "      <th>Jogar Futebol?</th>\n",
              "    </tr>\n",
              "  </thead>\n",
              "  <tbody>\n",
              "    <tr>\n",
              "      <th>0</th>\n",
              "      <td>Ensolarado</td>\n",
              "      <td>Quente</td>\n",
              "      <td>Alta</td>\n",
              "      <td>Fraco</td>\n",
              "      <td>Não</td>\n",
              "    </tr>\n",
              "    <tr>\n",
              "      <th>1</th>\n",
              "      <td>Ensolarado</td>\n",
              "      <td>Quente</td>\n",
              "      <td>Alta</td>\n",
              "      <td>Forte</td>\n",
              "      <td>Não</td>\n",
              "    </tr>\n",
              "    <tr>\n",
              "      <th>2</th>\n",
              "      <td>Nublado</td>\n",
              "      <td>Quente</td>\n",
              "      <td>Alta</td>\n",
              "      <td>Fraco</td>\n",
              "      <td>Sim</td>\n",
              "    </tr>\n",
              "    <tr>\n",
              "      <th>3</th>\n",
              "      <td>Chuvoso</td>\n",
              "      <td>Moderado</td>\n",
              "      <td>Alta</td>\n",
              "      <td>Fraco</td>\n",
              "      <td>Sim</td>\n",
              "    </tr>\n",
              "    <tr>\n",
              "      <th>4</th>\n",
              "      <td>Chuvoso</td>\n",
              "      <td>Frio</td>\n",
              "      <td>Normal</td>\n",
              "      <td>Fraco</td>\n",
              "      <td>Sim</td>\n",
              "    </tr>\n",
              "    <tr>\n",
              "      <th>5</th>\n",
              "      <td>Chuvoso</td>\n",
              "      <td>Frio</td>\n",
              "      <td>Normal</td>\n",
              "      <td>Forte</td>\n",
              "      <td>Não</td>\n",
              "    </tr>\n",
              "    <tr>\n",
              "      <th>6</th>\n",
              "      <td>Nublado</td>\n",
              "      <td>Frio</td>\n",
              "      <td>Normal</td>\n",
              "      <td>Forte</td>\n",
              "      <td>Sim</td>\n",
              "    </tr>\n",
              "    <tr>\n",
              "      <th>7</th>\n",
              "      <td>Ensolarado</td>\n",
              "      <td>Moderado</td>\n",
              "      <td>Alta</td>\n",
              "      <td>Fraco</td>\n",
              "      <td>Não</td>\n",
              "    </tr>\n",
              "    <tr>\n",
              "      <th>8</th>\n",
              "      <td>Ensolarado</td>\n",
              "      <td>Frio</td>\n",
              "      <td>Normal</td>\n",
              "      <td>Fraco</td>\n",
              "      <td>Sim</td>\n",
              "    </tr>\n",
              "    <tr>\n",
              "      <th>9</th>\n",
              "      <td>Chuvoso</td>\n",
              "      <td>Moderado</td>\n",
              "      <td>Normal</td>\n",
              "      <td>Fraco</td>\n",
              "      <td>Sim</td>\n",
              "    </tr>\n",
              "    <tr>\n",
              "      <th>10</th>\n",
              "      <td>Ensolarado</td>\n",
              "      <td>Moderado</td>\n",
              "      <td>Normal</td>\n",
              "      <td>Forte</td>\n",
              "      <td>Sim</td>\n",
              "    </tr>\n",
              "    <tr>\n",
              "      <th>11</th>\n",
              "      <td>Nublado</td>\n",
              "      <td>Moderado</td>\n",
              "      <td>Alta</td>\n",
              "      <td>Forte</td>\n",
              "      <td>Sim</td>\n",
              "    </tr>\n",
              "    <tr>\n",
              "      <th>12</th>\n",
              "      <td>Nublado</td>\n",
              "      <td>Quente</td>\n",
              "      <td>Normal</td>\n",
              "      <td>Fraco</td>\n",
              "      <td>Sim</td>\n",
              "    </tr>\n",
              "    <tr>\n",
              "      <th>13</th>\n",
              "      <td>Chuvoso</td>\n",
              "      <td>Moderado</td>\n",
              "      <td>Alta</td>\n",
              "      <td>Forte</td>\n",
              "      <td>Não</td>\n",
              "    </tr>\n",
              "  </tbody>\n",
              "</table>\n",
              "</div>"
            ],
            "text/plain": [
              "     Aparência Temperatura Umidade  Vento Jogar Futebol?\n",
              "0   Ensolarado      Quente    Alta  Fraco            Não\n",
              "1   Ensolarado      Quente    Alta  Forte            Não\n",
              "2      Nublado      Quente    Alta  Fraco            Sim\n",
              "3      Chuvoso    Moderado    Alta  Fraco            Sim\n",
              "4      Chuvoso        Frio  Normal  Fraco            Sim\n",
              "5      Chuvoso        Frio  Normal  Forte            Não\n",
              "6      Nublado        Frio  Normal  Forte            Sim\n",
              "7   Ensolarado    Moderado    Alta  Fraco            Não\n",
              "8   Ensolarado        Frio  Normal  Fraco            Sim\n",
              "9      Chuvoso    Moderado  Normal  Fraco            Sim\n",
              "10  Ensolarado    Moderado  Normal  Forte            Sim\n",
              "11     Nublado    Moderado    Alta  Forte            Sim\n",
              "12     Nublado      Quente  Normal  Fraco            Sim\n",
              "13     Chuvoso    Moderado    Alta  Forte            Não"
            ]
          },
          "execution_count": 46,
          "metadata": {},
          "output_type": "execute_result"
        }
      ],
      "source": [
        "#Conjunto de dados completo\n",
        "df"
      ]
    },
    {
      "cell_type": "markdown",
      "metadata": {
        "id": "_624la952JYJ"
      },
      "source": [
        "###Y=Não"
      ]
    },
    {
      "cell_type": "markdown",
      "metadata": {
        "id": "5J_FofOanwoa"
      },
      "source": [
        "$${P(\\text{Y = Não}) = \\frac{5}{14}} $$\n",
        "\n",
        "$${P(\\text{Aparência=Ensolarado} { | Y=Não}}) = \\frac{3}{5} $$\n",
        "\n",
        "$${P(\\text{Temperatura=Moderado} { | Y=Não}}) = \\frac{2}{5} $$\n",
        "\n",
        "$${P(\\text{Umidade=Alta} { | Y=Não}}) = \\frac{4}{5} $$\n",
        "\n",
        "$${P(\\text{Vento=Forte} { | Y=Não}}) = \\frac{3}{5} $$\n",
        "\n",
        "$${P(\\text{Y=Não})} * {∏_{i=1}^{4} P(\\text{X}_i {|Y=Não}}) = \\frac{5}{14} * \\frac{3}{5}*\\frac{2}{5}*\\frac{4}{5}*\\frac{3}{5}$$\n",
        "\n",
        "$${P(\\text{Y=Não|Aparência=Ensolarado, Temperatura=Moderado, Umidade=Alta, Vento=Forte}) = 0,0411}$$\n",
        "\n",
        "\n"
      ]
    },
    {
      "cell_type": "code",
      "execution_count": 47,
      "metadata": {
        "colab": {
          "base_uri": "https://localhost:8080/"
        },
        "id": "8tJvgh59RJ8R",
        "outputId": "e8e02bfc-fd4a-440d-99ed-eafb33371637"
      },
      "outputs": [
        {
          "data": {
            "text/plain": [
              "0.04114285714285714"
            ]
          },
          "execution_count": 47,
          "metadata": {},
          "output_type": "execute_result"
        }
      ],
      "source": [
        "(5/14) * (3/5) * (2/5) * (4/5) * (3/5)"
      ]
    },
    {
      "cell_type": "markdown",
      "metadata": {
        "id": "j5FI9oyz2L6l"
      },
      "source": [
        "###Y=Sim"
      ]
    },
    {
      "cell_type": "markdown",
      "metadata": {
        "id": "fcmNz3IW2Aee"
      },
      "source": [
        "$${P(\\text{Y = Sim}) = \\frac{9}{14}} $$\n",
        "\n",
        "$${P(\\text{Aparência=Ensolarado} { | Y=Sim}}) = \\frac{2}{9} $$\n",
        "\n",
        "$${P(\\text{Temperatura=Moderado} { | Y=Sim}}) = \\frac{4}{9} $$\n",
        "\n",
        "$${P(\\text{Umidade=Alta} { | Y=Sim}}) = \\frac{3}{9} $$\n",
        "\n",
        "$${P(\\text{Vento=Forte} { | Y=Sim}}) = \\frac{3}{9} $$\n",
        "\n",
        "$${P(\\text{Y=Sim})} * {∏_{i=1}^{4} P(\\text{X}_i {|Y=Sim}}) = \\frac{9}{14} * \\frac{2}{9}*\\frac{4}{9}*\\frac{3}{9}*\\frac{3}{9}$$\n",
        "\n",
        "$${P(\\text{Y=Sim|Aparência=Ensolarado, Temperatura=Moderado, Umidade=Alta, Vento=Forte}) = 0,0070}$$\n"
      ]
    },
    {
      "cell_type": "code",
      "execution_count": 48,
      "metadata": {
        "colab": {
          "base_uri": "https://localhost:8080/"
        },
        "id": "imDG2R6RU9a4",
        "outputId": "9af0b001-7f4e-4873-c0b7-78694e1bfb7c"
      },
      "outputs": [
        {
          "data": {
            "text/plain": [
              "0.007054673721340388"
            ]
          },
          "execution_count": 48,
          "metadata": {},
          "output_type": "execute_result"
        }
      ],
      "source": [
        "(9/14) * (2/9) * (4/9) * (3/9) * (3/9)"
      ]
    },
    {
      "cell_type": "markdown",
      "metadata": {
        "id": "YhZNTTOq4GBu"
      },
      "source": [
        "###Encontrando o mais provável"
      ]
    },
    {
      "cell_type": "markdown",
      "metadata": {
        "id": "-2IQnYqL4JJd"
      },
      "source": [
        "$${P(\\text{Y=Não|Aparência=Ensolarado, Temperatura=Moderado}) = 0,04}$$\n",
        "\n",
        "$${P(\\text{Y=Sim|Aparência=Ensolarado, Temperatura=Moderado}) = 0,007}$$\n",
        "\n",
        "Como Y=Não é o mais provável, podemos dizer que, se o dia for ensolarado com temperatura moderada, umidade alta e vento forte, não devemos jogar futebol."
      ]
    },
    {
      "cell_type": "markdown",
      "metadata": {
        "id": "-LwuET1n_oPG"
      },
      "source": [
        "#Prós e Contras"
      ]
    },
    {
      "cell_type": "markdown",
      "metadata": {
        "id": "mvr15KkRFdid"
      },
      "source": [
        "**Prós:**\n",
        "\n",
        "* Rápido.\n",
        "* Simples de implementar.\n",
        "* Se as features forem realmente independentes o classificador é quase perfeito.\n",
        "* Precisa de poucos dados."
      ]
    },
    {
      "cell_type": "markdown",
      "metadata": {
        "id": "KErxfNFi0WF1"
      },
      "source": [
        "**Contras:**\n",
        "\n",
        "* Na prática, é muito improvável que as features sejam independentes.\n",
        "* Se algum dado não aparecer nenhuma vez, a probabilidade vira zero.\n",
        "* Ruim para conjuntos de dados desbalanceados.\n",
        "* Não é muito bom para features de valores contínuos (números reais).\n",
        "* As probabilidades geradas pelo modelo não são tão precisas."
      ]
    },
    {
      "cell_type": "markdown",
      "metadata": {
        "id": "eQ8N6VC942s5"
      },
      "source": [
        "#Detectando Spam"
      ]
    },
    {
      "cell_type": "markdown",
      "metadata": {
        "id": "7id6Sk3JWxbP"
      },
      "source": [
        "Na detecção de spam, classificamos se um email é spam ou não a partir de seu texto. Para isso, fazemos uma contagem de todas as palavras de todos os emails do dataset e usamos isso para estimar a probabilidade de cada palavra de determinado email que queremos analisar.\n",
        "\n"
      ]
    },
    {
      "cell_type": "markdown",
      "metadata": {
        "id": "AtMmxbVcnxw5"
      },
      "source": [
        "Primeiro, vamos abrir o [dataset](https://archive.ics.uci.edu/dataset/228/sms+spam+collection) e analisá-lo."
      ]
    },
    {
      "cell_type": "code",
      "execution_count": 52,
      "metadata": {
        "colab": {
          "base_uri": "https://localhost:8080/"
        },
        "id": "K7g4SYkAhUGR",
        "outputId": "bf7e4b82-5f22-4eb8-cba2-a00f1750d2a6"
      },
      "outputs": [
        {
          "name": "stderr",
          "output_type": "stream",
          "text": [
            "'wget' n�o � reconhecido como um comando interno\n",
            "ou externo, um programa oper�vel ou um arquivo em lotes.\n",
            "'unzip' n�o � reconhecido como um comando interno\n",
            "ou externo, um programa oper�vel ou um arquivo em lotes.\n"
          ]
        }
      ],
      "source": [
        "#fazendo download e extraindo o arquivo .zip\n",
        "!wget https://archive.ics.uci.edu/static/public/228/sms+spam+collection.zip\n",
        "!unzip sms+spam+collection.zip"
      ]
    },
    {
      "cell_type": "code",
      "execution_count": 53,
      "metadata": {
        "colab": {
          "base_uri": "https://localhost:8080/",
          "height": 225
        },
        "id": "FX43G7oFrQXP",
        "outputId": "4399a9ca-dbd6-4572-c9f6-513e865242f3"
      },
      "outputs": [
        {
          "ename": "FileNotFoundError",
          "evalue": "[Errno 2] No such file or directory: 'SMSSpamCollection'",
          "output_type": "error",
          "traceback": [
            "\u001b[1;31m---------------------------------------------------------------------------\u001b[0m",
            "\u001b[1;31mFileNotFoundError\u001b[0m                         Traceback (most recent call last)",
            "Cell \u001b[1;32mIn[53], line 4\u001b[0m\n\u001b[0;32m      1\u001b[0m \u001b[39mimport\u001b[39;00m \u001b[39mpandas\u001b[39;00m \u001b[39mas\u001b[39;00m \u001b[39mpd\u001b[39;00m\n\u001b[0;32m      2\u001b[0m \u001b[39mimport\u001b[39;00m \u001b[39mnumpy\u001b[39;00m \u001b[39mas\u001b[39;00m \u001b[39mnp\u001b[39;00m\n\u001b[1;32m----> 4\u001b[0m df \u001b[39m=\u001b[39m pd\u001b[39m.\u001b[39;49mread_csv(\u001b[39m\"\u001b[39;49m\u001b[39mSMSSpamCollection\u001b[39;49m\u001b[39m\"\u001b[39;49m, sep\u001b[39m=\u001b[39;49m\u001b[39m'\u001b[39;49m\u001b[39m\\t\u001b[39;49;00m\u001b[39m'\u001b[39;49m, names\u001b[39m=\u001b[39;49m[\u001b[39m\"\u001b[39;49m\u001b[39mLabel\u001b[39;49m\u001b[39m\"\u001b[39;49m,\u001b[39m\"\u001b[39;49m\u001b[39mEmail\u001b[39;49m\u001b[39m\"\u001b[39;49m])\n\u001b[0;32m      5\u001b[0m \u001b[39mprint\u001b[39m(df\u001b[39m.\u001b[39mshape)\n\u001b[0;32m      6\u001b[0m df\u001b[39m.\u001b[39mhead()\n",
            "File \u001b[1;32mc:\\Users\\Caue Paiva\\Desktop\\DATA_REPO\\data_env\\Lib\\site-packages\\pandas\\io\\parsers\\readers.py:912\u001b[0m, in \u001b[0;36mread_csv\u001b[1;34m(filepath_or_buffer, sep, delimiter, header, names, index_col, usecols, dtype, engine, converters, true_values, false_values, skipinitialspace, skiprows, skipfooter, nrows, na_values, keep_default_na, na_filter, verbose, skip_blank_lines, parse_dates, infer_datetime_format, keep_date_col, date_parser, date_format, dayfirst, cache_dates, iterator, chunksize, compression, thousands, decimal, lineterminator, quotechar, quoting, doublequote, escapechar, comment, encoding, encoding_errors, dialect, on_bad_lines, delim_whitespace, low_memory, memory_map, float_precision, storage_options, dtype_backend)\u001b[0m\n\u001b[0;32m    899\u001b[0m kwds_defaults \u001b[39m=\u001b[39m _refine_defaults_read(\n\u001b[0;32m    900\u001b[0m     dialect,\n\u001b[0;32m    901\u001b[0m     delimiter,\n\u001b[1;32m   (...)\u001b[0m\n\u001b[0;32m    908\u001b[0m     dtype_backend\u001b[39m=\u001b[39mdtype_backend,\n\u001b[0;32m    909\u001b[0m )\n\u001b[0;32m    910\u001b[0m kwds\u001b[39m.\u001b[39mupdate(kwds_defaults)\n\u001b[1;32m--> 912\u001b[0m \u001b[39mreturn\u001b[39;00m _read(filepath_or_buffer, kwds)\n",
            "File \u001b[1;32mc:\\Users\\Caue Paiva\\Desktop\\DATA_REPO\\data_env\\Lib\\site-packages\\pandas\\io\\parsers\\readers.py:577\u001b[0m, in \u001b[0;36m_read\u001b[1;34m(filepath_or_buffer, kwds)\u001b[0m\n\u001b[0;32m    574\u001b[0m _validate_names(kwds\u001b[39m.\u001b[39mget(\u001b[39m\"\u001b[39m\u001b[39mnames\u001b[39m\u001b[39m\"\u001b[39m, \u001b[39mNone\u001b[39;00m))\n\u001b[0;32m    576\u001b[0m \u001b[39m# Create the parser.\u001b[39;00m\n\u001b[1;32m--> 577\u001b[0m parser \u001b[39m=\u001b[39m TextFileReader(filepath_or_buffer, \u001b[39m*\u001b[39;49m\u001b[39m*\u001b[39;49mkwds)\n\u001b[0;32m    579\u001b[0m \u001b[39mif\u001b[39;00m chunksize \u001b[39mor\u001b[39;00m iterator:\n\u001b[0;32m    580\u001b[0m     \u001b[39mreturn\u001b[39;00m parser\n",
            "File \u001b[1;32mc:\\Users\\Caue Paiva\\Desktop\\DATA_REPO\\data_env\\Lib\\site-packages\\pandas\\io\\parsers\\readers.py:1407\u001b[0m, in \u001b[0;36mTextFileReader.__init__\u001b[1;34m(self, f, engine, **kwds)\u001b[0m\n\u001b[0;32m   1404\u001b[0m     \u001b[39mself\u001b[39m\u001b[39m.\u001b[39moptions[\u001b[39m\"\u001b[39m\u001b[39mhas_index_names\u001b[39m\u001b[39m\"\u001b[39m] \u001b[39m=\u001b[39m kwds[\u001b[39m\"\u001b[39m\u001b[39mhas_index_names\u001b[39m\u001b[39m\"\u001b[39m]\n\u001b[0;32m   1406\u001b[0m \u001b[39mself\u001b[39m\u001b[39m.\u001b[39mhandles: IOHandles \u001b[39m|\u001b[39m \u001b[39mNone\u001b[39;00m \u001b[39m=\u001b[39m \u001b[39mNone\u001b[39;00m\n\u001b[1;32m-> 1407\u001b[0m \u001b[39mself\u001b[39m\u001b[39m.\u001b[39m_engine \u001b[39m=\u001b[39m \u001b[39mself\u001b[39;49m\u001b[39m.\u001b[39;49m_make_engine(f, \u001b[39mself\u001b[39;49m\u001b[39m.\u001b[39;49mengine)\n",
            "File \u001b[1;32mc:\\Users\\Caue Paiva\\Desktop\\DATA_REPO\\data_env\\Lib\\site-packages\\pandas\\io\\parsers\\readers.py:1661\u001b[0m, in \u001b[0;36mTextFileReader._make_engine\u001b[1;34m(self, f, engine)\u001b[0m\n\u001b[0;32m   1659\u001b[0m     \u001b[39mif\u001b[39;00m \u001b[39m\"\u001b[39m\u001b[39mb\u001b[39m\u001b[39m\"\u001b[39m \u001b[39mnot\u001b[39;00m \u001b[39min\u001b[39;00m mode:\n\u001b[0;32m   1660\u001b[0m         mode \u001b[39m+\u001b[39m\u001b[39m=\u001b[39m \u001b[39m\"\u001b[39m\u001b[39mb\u001b[39m\u001b[39m\"\u001b[39m\n\u001b[1;32m-> 1661\u001b[0m \u001b[39mself\u001b[39m\u001b[39m.\u001b[39mhandles \u001b[39m=\u001b[39m get_handle(\n\u001b[0;32m   1662\u001b[0m     f,\n\u001b[0;32m   1663\u001b[0m     mode,\n\u001b[0;32m   1664\u001b[0m     encoding\u001b[39m=\u001b[39;49m\u001b[39mself\u001b[39;49m\u001b[39m.\u001b[39;49moptions\u001b[39m.\u001b[39;49mget(\u001b[39m\"\u001b[39;49m\u001b[39mencoding\u001b[39;49m\u001b[39m\"\u001b[39;49m, \u001b[39mNone\u001b[39;49;00m),\n\u001b[0;32m   1665\u001b[0m     compression\u001b[39m=\u001b[39;49m\u001b[39mself\u001b[39;49m\u001b[39m.\u001b[39;49moptions\u001b[39m.\u001b[39;49mget(\u001b[39m\"\u001b[39;49m\u001b[39mcompression\u001b[39;49m\u001b[39m\"\u001b[39;49m, \u001b[39mNone\u001b[39;49;00m),\n\u001b[0;32m   1666\u001b[0m     memory_map\u001b[39m=\u001b[39;49m\u001b[39mself\u001b[39;49m\u001b[39m.\u001b[39;49moptions\u001b[39m.\u001b[39;49mget(\u001b[39m\"\u001b[39;49m\u001b[39mmemory_map\u001b[39;49m\u001b[39m\"\u001b[39;49m, \u001b[39mFalse\u001b[39;49;00m),\n\u001b[0;32m   1667\u001b[0m     is_text\u001b[39m=\u001b[39;49mis_text,\n\u001b[0;32m   1668\u001b[0m     errors\u001b[39m=\u001b[39;49m\u001b[39mself\u001b[39;49m\u001b[39m.\u001b[39;49moptions\u001b[39m.\u001b[39;49mget(\u001b[39m\"\u001b[39;49m\u001b[39mencoding_errors\u001b[39;49m\u001b[39m\"\u001b[39;49m, \u001b[39m\"\u001b[39;49m\u001b[39mstrict\u001b[39;49m\u001b[39m\"\u001b[39;49m),\n\u001b[0;32m   1669\u001b[0m     storage_options\u001b[39m=\u001b[39;49m\u001b[39mself\u001b[39;49m\u001b[39m.\u001b[39;49moptions\u001b[39m.\u001b[39;49mget(\u001b[39m\"\u001b[39;49m\u001b[39mstorage_options\u001b[39;49m\u001b[39m\"\u001b[39;49m, \u001b[39mNone\u001b[39;49;00m),\n\u001b[0;32m   1670\u001b[0m )\n\u001b[0;32m   1671\u001b[0m \u001b[39massert\u001b[39;00m \u001b[39mself\u001b[39m\u001b[39m.\u001b[39mhandles \u001b[39mis\u001b[39;00m \u001b[39mnot\u001b[39;00m \u001b[39mNone\u001b[39;00m\n\u001b[0;32m   1672\u001b[0m f \u001b[39m=\u001b[39m \u001b[39mself\u001b[39m\u001b[39m.\u001b[39mhandles\u001b[39m.\u001b[39mhandle\n",
            "File \u001b[1;32mc:\\Users\\Caue Paiva\\Desktop\\DATA_REPO\\data_env\\Lib\\site-packages\\pandas\\io\\common.py:859\u001b[0m, in \u001b[0;36mget_handle\u001b[1;34m(path_or_buf, mode, encoding, compression, memory_map, is_text, errors, storage_options)\u001b[0m\n\u001b[0;32m    854\u001b[0m \u001b[39melif\u001b[39;00m \u001b[39misinstance\u001b[39m(handle, \u001b[39mstr\u001b[39m):\n\u001b[0;32m    855\u001b[0m     \u001b[39m# Check whether the filename is to be opened in binary mode.\u001b[39;00m\n\u001b[0;32m    856\u001b[0m     \u001b[39m# Binary mode does not support 'encoding' and 'newline'.\u001b[39;00m\n\u001b[0;32m    857\u001b[0m     \u001b[39mif\u001b[39;00m ioargs\u001b[39m.\u001b[39mencoding \u001b[39mand\u001b[39;00m \u001b[39m\"\u001b[39m\u001b[39mb\u001b[39m\u001b[39m\"\u001b[39m \u001b[39mnot\u001b[39;00m \u001b[39min\u001b[39;00m ioargs\u001b[39m.\u001b[39mmode:\n\u001b[0;32m    858\u001b[0m         \u001b[39m# Encoding\u001b[39;00m\n\u001b[1;32m--> 859\u001b[0m         handle \u001b[39m=\u001b[39m \u001b[39mopen\u001b[39;49m(\n\u001b[0;32m    860\u001b[0m             handle,\n\u001b[0;32m    861\u001b[0m             ioargs\u001b[39m.\u001b[39;49mmode,\n\u001b[0;32m    862\u001b[0m             encoding\u001b[39m=\u001b[39;49mioargs\u001b[39m.\u001b[39;49mencoding,\n\u001b[0;32m    863\u001b[0m             errors\u001b[39m=\u001b[39;49merrors,\n\u001b[0;32m    864\u001b[0m             newline\u001b[39m=\u001b[39;49m\u001b[39m\"\u001b[39;49m\u001b[39m\"\u001b[39;49m,\n\u001b[0;32m    865\u001b[0m         )\n\u001b[0;32m    866\u001b[0m     \u001b[39melse\u001b[39;00m:\n\u001b[0;32m    867\u001b[0m         \u001b[39m# Binary mode\u001b[39;00m\n\u001b[0;32m    868\u001b[0m         handle \u001b[39m=\u001b[39m \u001b[39mopen\u001b[39m(handle, ioargs\u001b[39m.\u001b[39mmode)\n",
            "\u001b[1;31mFileNotFoundError\u001b[0m: [Errno 2] No such file or directory: 'SMSSpamCollection'"
          ]
        }
      ],
      "source": [
        "import pandas as pd\n",
        "import numpy as np\n",
        "\n",
        "df = pd.read_csv(\"SMSSpamCollection\", sep='\\t', names=[\"Label\",\"Email\"])\n",
        "print(df.shape)\n",
        "df.head()"
      ]
    },
    {
      "cell_type": "code",
      "execution_count": null,
      "metadata": {
        "colab": {
          "base_uri": "https://localhost:8080/"
        },
        "id": "8y08LYnBv54B",
        "outputId": "b58aaddc-dd33-4b46-fdc2-3e7ea9cbca73"
      },
      "outputs": [
        {
          "data": {
            "text/plain": [
              "ham     4825\n",
              "spam     747\n",
              "Name: Label, dtype: int64"
            ]
          },
          "execution_count": 11,
          "metadata": {},
          "output_type": "execute_result"
        }
      ],
      "source": [
        "df['Label'].value_counts()"
      ]
    },
    {
      "cell_type": "markdown",
      "metadata": {
        "id": "jKbQvhiwp6Wj"
      },
      "source": [
        "Assim, vemos que a tabela possui duas colunas: _Label_ e _Email_\n",
        " - A coluna _Label_ indica se aquela mensagem foi marcada como spam (mensagens legítimas estão marcadas como \"ham\")\n",
        " - A coluna _Email_ possui o conteúdo da mensagem\n"
      ]
    },
    {
      "cell_type": "markdown",
      "metadata": {
        "id": "xuONR37qqnKc"
      },
      "source": [
        "Para contar as palavras do dataset, usaremos o CountVectorizer da biblioteca Scikit-Learn."
      ]
    },
    {
      "cell_type": "code",
      "execution_count": 54,
      "metadata": {
        "colab": {
          "base_uri": "https://localhost:8080/"
        },
        "id": "uKytpDZ7o9FH",
        "outputId": "7eca32b4-385b-4560-8e13-bb5a28555fb2"
      },
      "outputs": [
        {
          "ename": "AttributeError",
          "evalue": "'DataFrame' object has no attribute 'Email'",
          "output_type": "error",
          "traceback": [
            "\u001b[1;31m---------------------------------------------------------------------------\u001b[0m",
            "\u001b[1;31mAttributeError\u001b[0m                            Traceback (most recent call last)",
            "\u001b[1;32m~\\AppData\\Local\\Temp\\ipykernel_8352\\1854043028.py\u001b[0m in \u001b[0;36m?\u001b[1;34m()\u001b[0m\n\u001b[0;32m      1\u001b[0m \u001b[1;32mfrom\u001b[0m \u001b[0msklearn\u001b[0m\u001b[1;33m.\u001b[0m\u001b[0mfeature_extraction\u001b[0m\u001b[1;33m.\u001b[0m\u001b[0mtext\u001b[0m \u001b[1;32mimport\u001b[0m \u001b[0mCountVectorizer\u001b[0m \u001b[1;31m#Importando a classe\u001b[0m\u001b[1;33m\u001b[0m\u001b[1;33m\u001b[0m\u001b[0m\n\u001b[0;32m      2\u001b[0m \u001b[1;33m\u001b[0m\u001b[0m\n\u001b[0;32m      3\u001b[0m \u001b[0mvectorizer\u001b[0m \u001b[1;33m=\u001b[0m \u001b[0mCountVectorizer\u001b[0m\u001b[1;33m(\u001b[0m\u001b[1;33m)\u001b[0m \u001b[1;31m#Instanciando objeto\u001b[0m\u001b[1;33m\u001b[0m\u001b[1;33m\u001b[0m\u001b[0m\n\u001b[1;32m----> 4\u001b[1;33m \u001b[0mX\u001b[0m \u001b[1;33m=\u001b[0m \u001b[0mvectorizer\u001b[0m\u001b[1;33m.\u001b[0m\u001b[0mfit_transform\u001b[0m\u001b[1;33m(\u001b[0m\u001b[0mdf\u001b[0m\u001b[1;33m.\u001b[0m\u001b[0mEmail\u001b[0m\u001b[1;33m.\u001b[0m\u001b[0mtolist\u001b[0m\u001b[1;33m(\u001b[0m\u001b[1;33m)\u001b[0m\u001b[1;33m)\u001b[0m\u001b[1;33m.\u001b[0m\u001b[0mtoarray\u001b[0m\u001b[1;33m(\u001b[0m\u001b[1;33m)\u001b[0m \u001b[1;31m#Transformando o texto em um vetor de contagem\u001b[0m\u001b[1;33m\u001b[0m\u001b[1;33m\u001b[0m\u001b[0m\n\u001b[0m\u001b[0;32m      5\u001b[0m \u001b[1;33m\u001b[0m\u001b[0m\n\u001b[0;32m      6\u001b[0m \u001b[0mprint\u001b[0m\u001b[1;33m(\u001b[0m\u001b[0mX\u001b[0m\u001b[1;33m.\u001b[0m\u001b[0mshape\u001b[0m\u001b[1;33m)\u001b[0m\u001b[1;33m\u001b[0m\u001b[1;33m\u001b[0m\u001b[0m\n\u001b[0;32m      7\u001b[0m \u001b[0mX\u001b[0m\u001b[1;33m\u001b[0m\u001b[1;33m\u001b[0m\u001b[0m\n",
            "\u001b[1;32mc:\\Users\\Caue Paiva\\Desktop\\DATA_REPO\\data_env\\Lib\\site-packages\\pandas\\core\\generic.py\u001b[0m in \u001b[0;36m?\u001b[1;34m(self, name)\u001b[0m\n\u001b[0;32m   5985\u001b[0m             \u001b[1;32mand\u001b[0m \u001b[0mname\u001b[0m \u001b[1;32mnot\u001b[0m \u001b[1;32min\u001b[0m \u001b[0mself\u001b[0m\u001b[1;33m.\u001b[0m\u001b[0m_accessors\u001b[0m\u001b[1;33m\u001b[0m\u001b[1;33m\u001b[0m\u001b[0m\n\u001b[0;32m   5986\u001b[0m             \u001b[1;32mand\u001b[0m \u001b[0mself\u001b[0m\u001b[1;33m.\u001b[0m\u001b[0m_info_axis\u001b[0m\u001b[1;33m.\u001b[0m\u001b[0m_can_hold_identifiers_and_holds_name\u001b[0m\u001b[1;33m(\u001b[0m\u001b[0mname\u001b[0m\u001b[1;33m)\u001b[0m\u001b[1;33m\u001b[0m\u001b[1;33m\u001b[0m\u001b[0m\n\u001b[0;32m   5987\u001b[0m         ):\n\u001b[0;32m   5988\u001b[0m             \u001b[1;32mreturn\u001b[0m \u001b[0mself\u001b[0m\u001b[1;33m[\u001b[0m\u001b[0mname\u001b[0m\u001b[1;33m]\u001b[0m\u001b[1;33m\u001b[0m\u001b[1;33m\u001b[0m\u001b[0m\n\u001b[1;32m-> 5989\u001b[1;33m         \u001b[1;32mreturn\u001b[0m \u001b[0mobject\u001b[0m\u001b[1;33m.\u001b[0m\u001b[0m__getattribute__\u001b[0m\u001b[1;33m(\u001b[0m\u001b[0mself\u001b[0m\u001b[1;33m,\u001b[0m \u001b[0mname\u001b[0m\u001b[1;33m)\u001b[0m\u001b[1;33m\u001b[0m\u001b[1;33m\u001b[0m\u001b[0m\n\u001b[0m",
            "\u001b[1;31mAttributeError\u001b[0m: 'DataFrame' object has no attribute 'Email'"
          ]
        }
      ],
      "source": [
        "from sklearn.feature_extraction.text import CountVectorizer #Importando a classe\n",
        "\n",
        "vectorizer = CountVectorizer() #Instanciando objeto\n",
        "X = vectorizer.fit_transform(df.Email.tolist()).toarray() #Transformando o texto em um vetor de contagem\n",
        "\n",
        "print(X.shape)\n",
        "X"
      ]
    },
    {
      "cell_type": "markdown",
      "metadata": {
        "id": "-5HnPtHktK7G"
      },
      "source": [
        "Agora, devemos transformar as labels em números para podermos utilizar o Naive Bayes da Sklearn. Assim, usaremos o [Label Encoder](https://scikit-learn.org/stable/modules/generated/sklearn.preprocessing.LabelEncoder.html) da mesma biblioteca."
      ]
    },
    {
      "cell_type": "code",
      "execution_count": null,
      "metadata": {
        "colab": {
          "base_uri": "https://localhost:8080/"
        },
        "id": "wUw_b53atfCK",
        "outputId": "628d58dd-fb40-4671-c36d-b60701569ed5"
      },
      "outputs": [
        {
          "ename": "KeyError",
          "evalue": "'Label'",
          "output_type": "error",
          "traceback": [
            "\u001b[1;31m---------------------------------------------------------------------------\u001b[0m",
            "\u001b[1;31mKeyError\u001b[0m                                  Traceback (most recent call last)",
            "File \u001b[1;32mc:\\Users\\Caue Paiva\\Desktop\\DATA_REPO\\data_env\\Lib\\site-packages\\pandas\\core\\indexes\\base.py:3653\u001b[0m, in \u001b[0;36mIndex.get_loc\u001b[1;34m(self, key)\u001b[0m\n\u001b[0;32m   3652\u001b[0m \u001b[39mtry\u001b[39;00m:\n\u001b[1;32m-> 3653\u001b[0m     \u001b[39mreturn\u001b[39;00m \u001b[39mself\u001b[39;49m\u001b[39m.\u001b[39;49m_engine\u001b[39m.\u001b[39;49mget_loc(casted_key)\n\u001b[0;32m   3654\u001b[0m \u001b[39mexcept\u001b[39;00m \u001b[39mKeyError\u001b[39;00m \u001b[39mas\u001b[39;00m err:\n",
            "File \u001b[1;32mc:\\Users\\Caue Paiva\\Desktop\\DATA_REPO\\data_env\\Lib\\site-packages\\pandas\\_libs\\index.pyx:147\u001b[0m, in \u001b[0;36mpandas._libs.index.IndexEngine.get_loc\u001b[1;34m()\u001b[0m\n",
            "File \u001b[1;32mc:\\Users\\Caue Paiva\\Desktop\\DATA_REPO\\data_env\\Lib\\site-packages\\pandas\\_libs\\index.pyx:176\u001b[0m, in \u001b[0;36mpandas._libs.index.IndexEngine.get_loc\u001b[1;34m()\u001b[0m\n",
            "File \u001b[1;32mpandas\\_libs\\hashtable_class_helper.pxi:7080\u001b[0m, in \u001b[0;36mpandas._libs.hashtable.PyObjectHashTable.get_item\u001b[1;34m()\u001b[0m\n",
            "File \u001b[1;32mpandas\\_libs\\hashtable_class_helper.pxi:7088\u001b[0m, in \u001b[0;36mpandas._libs.hashtable.PyObjectHashTable.get_item\u001b[1;34m()\u001b[0m\n",
            "\u001b[1;31mKeyError\u001b[0m: 'Label'",
            "\nThe above exception was the direct cause of the following exception:\n",
            "\u001b[1;31mKeyError\u001b[0m                                  Traceback (most recent call last)",
            "Cell \u001b[1;32mIn[29], line 5\u001b[0m\n\u001b[0;32m      1\u001b[0m \u001b[39mfrom\u001b[39;00m \u001b[39msklearn\u001b[39;00m \u001b[39mimport\u001b[39;00m preprocessing \u001b[39m#Importando a classe\u001b[39;00m\n\u001b[0;32m      3\u001b[0m le \u001b[39m=\u001b[39m preprocessing\u001b[39m.\u001b[39mLabelEncoder() \u001b[39m#Instanciando objeto\u001b[39;00m\n\u001b[1;32m----> 5\u001b[0m le\u001b[39m.\u001b[39mfit(df[\u001b[39m'\u001b[39;49m\u001b[39mLabel\u001b[39;49m\u001b[39m'\u001b[39;49m]) \u001b[39m#\"Ensinando\" ao objeto nosso conjunto de dados\u001b[39;00m\n\u001b[0;32m      6\u001b[0m Y \u001b[39m=\u001b[39m le\u001b[39m.\u001b[39mtransform(df[\u001b[39m'\u001b[39m\u001b[39mLabel\u001b[39m\u001b[39m'\u001b[39m]) \u001b[39m#Pedindo para ele transformar em números\u001b[39;00m\n\u001b[0;32m      8\u001b[0m Y\n",
            "File \u001b[1;32mc:\\Users\\Caue Paiva\\Desktop\\DATA_REPO\\data_env\\Lib\\site-packages\\pandas\\core\\frame.py:3761\u001b[0m, in \u001b[0;36mDataFrame.__getitem__\u001b[1;34m(self, key)\u001b[0m\n\u001b[0;32m   3759\u001b[0m \u001b[39mif\u001b[39;00m \u001b[39mself\u001b[39m\u001b[39m.\u001b[39mcolumns\u001b[39m.\u001b[39mnlevels \u001b[39m>\u001b[39m \u001b[39m1\u001b[39m:\n\u001b[0;32m   3760\u001b[0m     \u001b[39mreturn\u001b[39;00m \u001b[39mself\u001b[39m\u001b[39m.\u001b[39m_getitem_multilevel(key)\n\u001b[1;32m-> 3761\u001b[0m indexer \u001b[39m=\u001b[39m \u001b[39mself\u001b[39;49m\u001b[39m.\u001b[39;49mcolumns\u001b[39m.\u001b[39;49mget_loc(key)\n\u001b[0;32m   3762\u001b[0m \u001b[39mif\u001b[39;00m is_integer(indexer):\n\u001b[0;32m   3763\u001b[0m     indexer \u001b[39m=\u001b[39m [indexer]\n",
            "File \u001b[1;32mc:\\Users\\Caue Paiva\\Desktop\\DATA_REPO\\data_env\\Lib\\site-packages\\pandas\\core\\indexes\\base.py:3655\u001b[0m, in \u001b[0;36mIndex.get_loc\u001b[1;34m(self, key)\u001b[0m\n\u001b[0;32m   3653\u001b[0m     \u001b[39mreturn\u001b[39;00m \u001b[39mself\u001b[39m\u001b[39m.\u001b[39m_engine\u001b[39m.\u001b[39mget_loc(casted_key)\n\u001b[0;32m   3654\u001b[0m \u001b[39mexcept\u001b[39;00m \u001b[39mKeyError\u001b[39;00m \u001b[39mas\u001b[39;00m err:\n\u001b[1;32m-> 3655\u001b[0m     \u001b[39mraise\u001b[39;00m \u001b[39mKeyError\u001b[39;00m(key) \u001b[39mfrom\u001b[39;00m \u001b[39merr\u001b[39;00m\n\u001b[0;32m   3656\u001b[0m \u001b[39mexcept\u001b[39;00m \u001b[39mTypeError\u001b[39;00m:\n\u001b[0;32m   3657\u001b[0m     \u001b[39m# If we have a listlike key, _check_indexing_error will raise\u001b[39;00m\n\u001b[0;32m   3658\u001b[0m     \u001b[39m#  InvalidIndexError. Otherwise we fall through and re-raise\u001b[39;00m\n\u001b[0;32m   3659\u001b[0m     \u001b[39m#  the TypeError.\u001b[39;00m\n\u001b[0;32m   3660\u001b[0m     \u001b[39mself\u001b[39m\u001b[39m.\u001b[39m_check_indexing_error(key)\n",
            "\u001b[1;31mKeyError\u001b[0m: 'Label'"
          ]
        }
      ],
      "source": [
        "from sklearn import preprocessing #Importando a classe\n",
        "\n",
        "le = preprocessing.LabelEncoder() #Instanciando objeto\n",
        "\n",
        "le.fit(df['Label']) #\"Ensinando\" ao objeto nosso conjunto de dados\n",
        "Y = le.transform(df['Label']) #Pedindo para ele transformar em números\n",
        "\n",
        "Y"
      ]
    },
    {
      "cell_type": "markdown",
      "metadata": {
        "id": "K3ayUkdsxZbI"
      },
      "source": [
        "Vamos dividir os dados filtrados em treino e teste utilizando a biblioteca Scikit Learn. ([documentação](https://scikit-learn.org/stable/modules/generated/sklearn.model_selection.train_test_split.html))"
      ]
    },
    {
      "cell_type": "code",
      "execution_count": null,
      "metadata": {
        "id": "TXQYD18xtv5G"
      },
      "outputs": [
        {
          "ename": "NameError",
          "evalue": "name 'X' is not defined",
          "output_type": "error",
          "traceback": [
            "\u001b[1;31m---------------------------------------------------------------------------\u001b[0m",
            "\u001b[1;31mNameError\u001b[0m                                 Traceback (most recent call last)",
            "Cell \u001b[1;32mIn[25], line 2\u001b[0m\n\u001b[0;32m      1\u001b[0m \u001b[39mfrom\u001b[39;00m \u001b[39msklearn\u001b[39;00m\u001b[39m.\u001b[39;00m\u001b[39mmodel_selection\u001b[39;00m \u001b[39mimport\u001b[39;00m train_test_split\n\u001b[1;32m----> 2\u001b[0m X_train, X_test, Y_train, Y_test \u001b[39m=\u001b[39m train_test_split(X, Y, test_size\u001b[39m=\u001b[39m\u001b[39m0.20\u001b[39m, random_state\u001b[39m=\u001b[39m\u001b[39m42\u001b[39m)\n",
            "\u001b[1;31mNameError\u001b[0m: name 'X' is not defined"
          ]
        }
      ],
      "source": [
        "from sklearn.model_selection import train_test_split\n",
        "X_train, X_test, Y_train, Y_test = train_test_split(X, Y, test_size=0.20, random_state=42)"
      ]
    },
    {
      "cell_type": "markdown",
      "metadata": {
        "id": "ZXxCWOU1yj8G"
      },
      "source": [
        "Agora, usaremos a função MultinomialNB ([documentação](https://scikit-learn.org/stable/modules/generated/sklearn.naive_bayes.MultinomialNB.html)) para treinar um modelo Naive Bayes no conjunto de teste:"
      ]
    },
    {
      "cell_type": "code",
      "execution_count": null,
      "metadata": {
        "colab": {
          "base_uri": "https://localhost:8080/",
          "height": 75
        },
        "id": "04jZuhh-x3pn",
        "outputId": "e11b765e-a503-49dd-ab60-6971dc4cb7db"
      },
      "outputs": [
        {
          "ename": "NameError",
          "evalue": "name 'X_train' is not defined",
          "output_type": "error",
          "traceback": [
            "\u001b[1;31m---------------------------------------------------------------------------\u001b[0m",
            "\u001b[1;31mNameError\u001b[0m                                 Traceback (most recent call last)",
            "Cell \u001b[1;32mIn[17], line 4\u001b[0m\n\u001b[0;32m      1\u001b[0m \u001b[39mfrom\u001b[39;00m \u001b[39msklearn\u001b[39;00m\u001b[39m.\u001b[39;00m\u001b[39mnaive_bayes\u001b[39;00m \u001b[39mimport\u001b[39;00m MultinomialNB\n\u001b[0;32m      3\u001b[0m model \u001b[39m=\u001b[39m MultinomialNB(force_alpha\u001b[39m=\u001b[39m\u001b[39mTrue\u001b[39;00m)\n\u001b[1;32m----> 4\u001b[0m model\u001b[39m.\u001b[39mfit(X_train, Y_train)\n",
            "\u001b[1;31mNameError\u001b[0m: name 'X_train' is not defined"
          ]
        }
      ],
      "source": [
        "from sklearn.naive_bayes import MultinomialNB\n",
        "\n",
        "model = MultinomialNB(force_alpha=True)\n",
        "model.fit(X_train, Y_train)"
      ]
    },
    {
      "cell_type": "markdown",
      "metadata": {
        "id": "cQ5Y8houzgIH"
      },
      "source": [
        "Por fim, podemos calcular a acurácia do modelo nos dados de teste ainda com a mesma biblioteca. ([documentação](https://scikit-learn.org/stable/modules/generated/sklearn.metrics.accuracy_score.html))"
      ]
    },
    {
      "cell_type": "code",
      "execution_count": null,
      "metadata": {
        "colab": {
          "base_uri": "https://localhost:8080/"
        },
        "id": "zug8pY-rzZ6V",
        "outputId": "abdcc795-502a-4663-ee75-ac15d9fb73bd"
      },
      "outputs": [
        {
          "ename": "NameError",
          "evalue": "name 'Y_test' is not defined",
          "output_type": "error",
          "traceback": [
            "\u001b[1;31m---------------------------------------------------------------------------\u001b[0m",
            "\u001b[1;31mNameError\u001b[0m                                 Traceback (most recent call last)",
            "Cell \u001b[1;32mIn[9], line 2\u001b[0m\n\u001b[0;32m      1\u001b[0m \u001b[39mfrom\u001b[39;00m \u001b[39msklearn\u001b[39;00m\u001b[39m.\u001b[39;00m\u001b[39mmetrics\u001b[39;00m \u001b[39mimport\u001b[39;00m accuracy_score\n\u001b[1;32m----> 2\u001b[0m \u001b[39mprint\u001b[39m(\u001b[39m'\u001b[39m\u001b[39mAcurácia: \u001b[39m\u001b[39m%.2lf\u001b[39;00m\u001b[39m%%\u001b[39;00m\u001b[39m'\u001b[39m \u001b[39m%\u001b[39m (accuracy_score(Y_test, model\u001b[39m.\u001b[39mpredict(X_test))\u001b[39m*\u001b[39m\u001b[39m100\u001b[39m))\n",
            "\u001b[1;31mNameError\u001b[0m: name 'Y_test' is not defined"
          ]
        }
      ],
      "source": [
        "from sklearn.metrics import accuracy_score\n",
        "print('Acurácia: %.2lf%%' % (accuracy_score(Y_test, model.predict(X_test))*100))"
      ]
    },
    {
      "cell_type": "code",
      "execution_count": null,
      "metadata": {
        "colab": {
          "base_uri": "https://localhost:8080/"
        },
        "id": "pLn3GgFmzsoj",
        "outputId": "61f6cc1a-a7fb-4207-8403-bdc4bad2b71c"
      },
      "outputs": [
        {
          "name": "stdout",
          "output_type": "stream",
          "text": [
            "spam probability: 13.42 %\n",
            "spam probability: 80.69 %\n",
            "spam probability: 0.02 %\n"
          ]
        }
      ],
      "source": [
        "def pred(message):\n",
        "    inputs = vectorizer.transform([message]) #transformando a mensagem em um vetor de contagem de palavras\n",
        "    prob = model.predict_proba(inputs)\n",
        "    print('spam probability: %.2f %%' % (100*prob[0][1],))\n",
        "\n",
        "message = 'is this message spam?'\n",
        "pred(message)\n",
        "\n",
        "message = 'get an iphone for free now'\n",
        "pred(message)\n",
        "\n",
        "message = 'I need to have a meeting with you tomorrow'\n",
        "pred(message)"
      ]
    },
    {
      "cell_type": "markdown",
      "metadata": {
        "id": "uB95c5YvxxRp"
      },
      "source": [
        "#Exercício"
      ]
    },
    {
      "cell_type": "markdown",
      "metadata": {
        "id": "hjYgK7mfm22o"
      },
      "source": [
        "\n",
        "https://www.kaggle.com/datasets/crawford/20-newsgroups\n",
        "\n",
        "O conjunto de dados \"20 Newsgroups\" é usado para classificação de texto. Ele contém posts de grupos de discussão sobre diferentes tópicos. As classes representam esses tópicos, como ciência e espaço. Usando Naive Bayes, podemos treinar modelos para prever a qual tópico um novo post pertence com base em palavras-chave. Isso ajuda a organizar informações e automatizar a categorização de textos.\n",
        "\n",
        "*Lista de Tópicos*\n",
        "- comp.os.ms-windows.misc (Computadores - Windows)\n",
        "- comp.sys.ibm.pc.hardware (Computadores - Hardware IBM/PC)\n",
        "- omp.sys.mac.hardware (Computadores - Hardware Macintosh)\n",
        "- comp.windows.x (Computadores - Windows X)\n",
        "- rec.autos (Automóveis - Discussões)\n",
        "- rec.motorcycles (Motocicletas - Discussões)\n",
        "- sci.crypt (Ciência - Criptografia)\n",
        "- sci.electronics (Ciência - Eletrônica)\n",
        "- sci.med (Ciência - Medicina)\n",
        "- sci.space (Ciência - Espaço)\n",
        "- soc.religion.christian (Sociedade - Religião Cristã)\n",
        "- talk.politics.guns (Discussões - Política de Armas)\n",
        "- talk.politics.mideast (Discussões - Política do Oriente Médio)\n",
        "- talk.politics.misc (Discussões - Política Diversa)\n",
        "- talk.religion.misc (Discussões - Religião Diversa)"
      ]
    },
    {
      "cell_type": "markdown",
      "metadata": {
        "id": "z4GpSiPlMghx"
      },
      "source": [
        "## Carregar o conjunto de dados \"20 Newsgroups\""
      ]
    },
    {
      "cell_type": "markdown",
      "metadata": {
        "id": "FwX5SV1mMnsZ"
      },
      "source": [
        "1. Rode a célula abaixo e visualize um post (se quiser visualizar melhor os dados use \"remove=('headers', 'footers', 'quotes')\" como parâmetro de fetch_20newsgroups e veja a diferença)\n",
        "\n"
      ]
    },
    {
      "cell_type": "code",
      "execution_count": 55,
      "metadata": {
        "id": "yppYPWuYMQjC"
      },
      "outputs": [
        {
          "ename": "KeyboardInterrupt",
          "evalue": "",
          "output_type": "error",
          "traceback": [
            "\u001b[1;31m---------------------------------------------------------------------------\u001b[0m",
            "\u001b[1;31mKeyboardInterrupt\u001b[0m                         Traceback (most recent call last)",
            "Cell \u001b[1;32mIn[55], line 5\u001b[0m\n\u001b[0;32m      1\u001b[0m \u001b[39mfrom\u001b[39;00m \u001b[39msklearn\u001b[39;00m\u001b[39m.\u001b[39;00m\u001b[39mdatasets\u001b[39;00m \u001b[39mimport\u001b[39;00m fetch_20newsgroups\n\u001b[0;32m      3\u001b[0m categories \u001b[39m=\u001b[39m [\u001b[39m'\u001b[39m\u001b[39m#####\u001b[39m\u001b[39m'\u001b[39m, \u001b[39m'\u001b[39m\u001b[39m#####\u001b[39m\u001b[39m'\u001b[39m]  \u001b[39m# Escolha duas categorias para simplificar\u001b[39;00m\n\u001b[1;32m----> 5\u001b[0m newsgroups \u001b[39m=\u001b[39m fetch_20newsgroups(subset\u001b[39m=\u001b[39;49m\u001b[39m'\u001b[39;49m\u001b[39mall\u001b[39;49m\u001b[39m'\u001b[39;49m, categories\u001b[39m=\u001b[39;49mcategories, shuffle\u001b[39m=\u001b[39;49m\u001b[39mTrue\u001b[39;49;00m, random_state\u001b[39m=\u001b[39;49m\u001b[39m42\u001b[39;49m)\n\u001b[0;32m      7\u001b[0m \u001b[39mprint\u001b[39m(newsgroups\u001b[39m.\u001b[39mdata[\u001b[39m1\u001b[39m])\n",
            "File \u001b[1;32mc:\\Users\\Caue Paiva\\Desktop\\DATA_REPO\\data_env\\Lib\\site-packages\\sklearn\\utils\\_param_validation.py:211\u001b[0m, in \u001b[0;36mvalidate_params.<locals>.decorator.<locals>.wrapper\u001b[1;34m(*args, **kwargs)\u001b[0m\n\u001b[0;32m    205\u001b[0m \u001b[39mtry\u001b[39;00m:\n\u001b[0;32m    206\u001b[0m     \u001b[39mwith\u001b[39;00m config_context(\n\u001b[0;32m    207\u001b[0m         skip_parameter_validation\u001b[39m=\u001b[39m(\n\u001b[0;32m    208\u001b[0m             prefer_skip_nested_validation \u001b[39mor\u001b[39;00m global_skip_validation\n\u001b[0;32m    209\u001b[0m         )\n\u001b[0;32m    210\u001b[0m     ):\n\u001b[1;32m--> 211\u001b[0m         \u001b[39mreturn\u001b[39;00m func(\u001b[39m*\u001b[39;49margs, \u001b[39m*\u001b[39;49m\u001b[39m*\u001b[39;49mkwargs)\n\u001b[0;32m    212\u001b[0m \u001b[39mexcept\u001b[39;00m InvalidParameterError \u001b[39mas\u001b[39;00m e:\n\u001b[0;32m    213\u001b[0m     \u001b[39m# When the function is just a wrapper around an estimator, we allow\u001b[39;00m\n\u001b[0;32m    214\u001b[0m     \u001b[39m# the function to delegate validation to the estimator, but we replace\u001b[39;00m\n\u001b[0;32m    215\u001b[0m     \u001b[39m# the name of the estimator by the name of the function in the error\u001b[39;00m\n\u001b[0;32m    216\u001b[0m     \u001b[39m# message to avoid confusion.\u001b[39;00m\n\u001b[0;32m    217\u001b[0m     msg \u001b[39m=\u001b[39m re\u001b[39m.\u001b[39msub(\n\u001b[0;32m    218\u001b[0m         \u001b[39mr\u001b[39m\u001b[39m\"\u001b[39m\u001b[39mparameter of \u001b[39m\u001b[39m\\\u001b[39m\u001b[39mw+ must be\u001b[39m\u001b[39m\"\u001b[39m,\n\u001b[0;32m    219\u001b[0m         \u001b[39mf\u001b[39m\u001b[39m\"\u001b[39m\u001b[39mparameter of \u001b[39m\u001b[39m{\u001b[39;00mfunc\u001b[39m.\u001b[39m\u001b[39m__qualname__\u001b[39m\u001b[39m}\u001b[39;00m\u001b[39m must be\u001b[39m\u001b[39m\"\u001b[39m,\n\u001b[0;32m    220\u001b[0m         \u001b[39mstr\u001b[39m(e),\n\u001b[0;32m    221\u001b[0m     )\n",
            "File \u001b[1;32mc:\\Users\\Caue Paiva\\Desktop\\DATA_REPO\\data_env\\Lib\\site-packages\\sklearn\\datasets\\_twenty_newsgroups.py:284\u001b[0m, in \u001b[0;36mfetch_20newsgroups\u001b[1;34m(data_home, subset, categories, shuffle, random_state, remove, download_if_missing, return_X_y)\u001b[0m\n\u001b[0;32m    282\u001b[0m \u001b[39mif\u001b[39;00m download_if_missing:\n\u001b[0;32m    283\u001b[0m     logger\u001b[39m.\u001b[39minfo(\u001b[39m\"\u001b[39m\u001b[39mDownloading 20news dataset. This may take a few minutes.\u001b[39m\u001b[39m\"\u001b[39m)\n\u001b[1;32m--> 284\u001b[0m     cache \u001b[39m=\u001b[39m _download_20newsgroups(\n\u001b[0;32m    285\u001b[0m         target_dir\u001b[39m=\u001b[39;49mtwenty_home, cache_path\u001b[39m=\u001b[39;49mcache_path\n\u001b[0;32m    286\u001b[0m     )\n\u001b[0;32m    287\u001b[0m \u001b[39melse\u001b[39;00m:\n\u001b[0;32m    288\u001b[0m     \u001b[39mraise\u001b[39;00m \u001b[39mOSError\u001b[39;00m(\u001b[39m\"\u001b[39m\u001b[39m20Newsgroups dataset not found\u001b[39m\u001b[39m\"\u001b[39m)\n",
            "File \u001b[1;32mc:\\Users\\Caue Paiva\\Desktop\\DATA_REPO\\data_env\\Lib\\site-packages\\sklearn\\datasets\\_twenty_newsgroups.py:84\u001b[0m, in \u001b[0;36m_download_20newsgroups\u001b[1;34m(target_dir, cache_path)\u001b[0m\n\u001b[0;32m     80\u001b[0m os\u001b[39m.\u001b[39mremove(archive_path)\n\u001b[0;32m     82\u001b[0m \u001b[39m# Store a zipped pickle\u001b[39;00m\n\u001b[0;32m     83\u001b[0m cache \u001b[39m=\u001b[39m \u001b[39mdict\u001b[39m(\n\u001b[1;32m---> 84\u001b[0m     train\u001b[39m=\u001b[39mload_files(train_path, encoding\u001b[39m=\u001b[39;49m\u001b[39m\"\u001b[39;49m\u001b[39mlatin1\u001b[39;49m\u001b[39m\"\u001b[39;49m),\n\u001b[0;32m     85\u001b[0m     test\u001b[39m=\u001b[39mload_files(test_path, encoding\u001b[39m=\u001b[39m\u001b[39m\"\u001b[39m\u001b[39mlatin1\u001b[39m\u001b[39m\"\u001b[39m),\n\u001b[0;32m     86\u001b[0m )\n\u001b[0;32m     87\u001b[0m compressed_content \u001b[39m=\u001b[39m codecs\u001b[39m.\u001b[39mencode(pickle\u001b[39m.\u001b[39mdumps(cache), \u001b[39m\"\u001b[39m\u001b[39mzlib_codec\u001b[39m\u001b[39m\"\u001b[39m)\n\u001b[0;32m     88\u001b[0m \u001b[39mwith\u001b[39;00m \u001b[39mopen\u001b[39m(cache_path, \u001b[39m\"\u001b[39m\u001b[39mwb\u001b[39m\u001b[39m\"\u001b[39m) \u001b[39mas\u001b[39;00m f:\n",
            "File \u001b[1;32mc:\\Users\\Caue Paiva\\Desktop\\DATA_REPO\\data_env\\Lib\\site-packages\\sklearn\\utils\\_param_validation.py:184\u001b[0m, in \u001b[0;36mvalidate_params.<locals>.decorator.<locals>.wrapper\u001b[1;34m(*args, **kwargs)\u001b[0m\n\u001b[0;32m    182\u001b[0m global_skip_validation \u001b[39m=\u001b[39m get_config()[\u001b[39m\"\u001b[39m\u001b[39mskip_parameter_validation\u001b[39m\u001b[39m\"\u001b[39m]\n\u001b[0;32m    183\u001b[0m \u001b[39mif\u001b[39;00m global_skip_validation:\n\u001b[1;32m--> 184\u001b[0m     \u001b[39mreturn\u001b[39;00m func(\u001b[39m*\u001b[39;49margs, \u001b[39m*\u001b[39;49m\u001b[39m*\u001b[39;49mkwargs)\n\u001b[0;32m    186\u001b[0m func_sig \u001b[39m=\u001b[39m signature(func)\n\u001b[0;32m    188\u001b[0m \u001b[39m# Map *args/**kwargs to the function signature\u001b[39;00m\n",
            "File \u001b[1;32mc:\\Users\\Caue Paiva\\Desktop\\DATA_REPO\\data_env\\Lib\\site-packages\\sklearn\\datasets\\_base.py:281\u001b[0m, in \u001b[0;36mload_files\u001b[1;34m(container_path, description, categories, load_content, shuffle, encoding, decode_error, random_state, allowed_extensions)\u001b[0m\n\u001b[0;32m    279\u001b[0m data \u001b[39m=\u001b[39m []\n\u001b[0;32m    280\u001b[0m \u001b[39mfor\u001b[39;00m filename \u001b[39min\u001b[39;00m filenames:\n\u001b[1;32m--> 281\u001b[0m     data\u001b[39m.\u001b[39mappend(Path(filename)\u001b[39m.\u001b[39;49mread_bytes())\n\u001b[0;32m    282\u001b[0m \u001b[39mif\u001b[39;00m encoding \u001b[39mis\u001b[39;00m \u001b[39mnot\u001b[39;00m \u001b[39mNone\u001b[39;00m:\n\u001b[0;32m    283\u001b[0m     data \u001b[39m=\u001b[39m [d\u001b[39m.\u001b[39mdecode(encoding, decode_error) \u001b[39mfor\u001b[39;00m d \u001b[39min\u001b[39;00m data]\n",
            "File \u001b[1;32m~\\.pyenv\\pyenv-win\\versions\\3.11.0\\Lib\\pathlib.py:1050\u001b[0m, in \u001b[0;36mPath.read_bytes\u001b[1;34m(self)\u001b[0m\n\u001b[0;32m   1046\u001b[0m \u001b[39mdef\u001b[39;00m \u001b[39mread_bytes\u001b[39m(\u001b[39mself\u001b[39m):\n\u001b[0;32m   1047\u001b[0m \u001b[39m    \u001b[39m\u001b[39m\"\"\"\u001b[39;00m\n\u001b[0;32m   1048\u001b[0m \u001b[39m    Open the file in bytes mode, read it, and close the file.\u001b[39;00m\n\u001b[0;32m   1049\u001b[0m \u001b[39m    \"\"\"\u001b[39;00m\n\u001b[1;32m-> 1050\u001b[0m     \u001b[39mwith\u001b[39;00m \u001b[39mself\u001b[39;49m\u001b[39m.\u001b[39;49mopen(mode\u001b[39m=\u001b[39;49m\u001b[39m'\u001b[39;49m\u001b[39mrb\u001b[39;49m\u001b[39m'\u001b[39;49m) \u001b[39mas\u001b[39;00m f:\n\u001b[0;32m   1051\u001b[0m         \u001b[39mreturn\u001b[39;00m f\u001b[39m.\u001b[39mread()\n",
            "File \u001b[1;32m~\\.pyenv\\pyenv-win\\versions\\3.11.0\\Lib\\pathlib.py:1044\u001b[0m, in \u001b[0;36mPath.open\u001b[1;34m(self, mode, buffering, encoding, errors, newline)\u001b[0m\n\u001b[0;32m   1042\u001b[0m \u001b[39mif\u001b[39;00m \u001b[39m\"\u001b[39m\u001b[39mb\u001b[39m\u001b[39m\"\u001b[39m \u001b[39mnot\u001b[39;00m \u001b[39min\u001b[39;00m mode:\n\u001b[0;32m   1043\u001b[0m     encoding \u001b[39m=\u001b[39m io\u001b[39m.\u001b[39mtext_encoding(encoding)\n\u001b[1;32m-> 1044\u001b[0m \u001b[39mreturn\u001b[39;00m io\u001b[39m.\u001b[39;49mopen(\u001b[39mself\u001b[39;49m, mode, buffering, encoding, errors, newline)\n",
            "\u001b[1;31mKeyboardInterrupt\u001b[0m: "
          ]
        }
      ],
      "source": [
        "from sklearn.datasets import fetch_20newsgroups\n",
        "\n",
        "categories = ['#####', '#####']  # Escolha duas categorias para simplificar\n",
        "\n",
        "newsgroups = fetch_20newsgroups(subset='all', categories=categories, shuffle=True, random_state=42)\n",
        "\n",
        "print(newsgroups.data[1])"
      ]
    },
    {
      "cell_type": "code",
      "execution_count": null,
      "metadata": {
        "cellView": "form",
        "id": "D1YIa8z8wLG-"
      },
      "outputs": [],
      "source": [
        "# @title Resposta 1\n",
        "from sklearn.datasets import fetch_20newsgroups\n",
        "\n",
        "categories = ['sci.med', 'sci.space']\n",
        "\n",
        "newsgroups = fetch_20newsgroups(subset='all', categories=categories, shuffle=True, random_state=42, remove=('headers', 'footers', 'quotes'))\n",
        "\n",
        "print(newsgroups.data[1])"
      ]
    },
    {
      "cell_type": "markdown",
      "metadata": {
        "id": "P_6QwySq0jwd"
      },
      "source": [
        "## Vetorizar os documentos usando a contagem de palavras"
      ]
    },
    {
      "cell_type": "markdown",
      "metadata": {
        "id": "FZOQ36yRm6eL"
      },
      "source": [
        "2. Use CountVectorizer e fit_transform para contar as palavras"
      ]
    },
    {
      "cell_type": "code",
      "execution_count": null,
      "metadata": {
        "id": "0M85LSxCbb9-"
      },
      "outputs": [],
      "source": [
        "from sklearn.feature_extraction.text import CountVectorizer\n",
        "\n",
        "vectorizer = #?\n",
        "\n",
        "X = #?"
      ]
    },
    {
      "cell_type": "code",
      "execution_count": null,
      "metadata": {
        "cellView": "form",
        "id": "VljsZZRnnNuO"
      },
      "outputs": [],
      "source": [
        "# @title Resposta 2\n",
        "from sklearn.feature_extraction.text import CountVectorizer\n",
        "\n",
        "vectorizer = CountVectorizer(stop_words='english')\n",
        "\n",
        "X = vectorizer.fit_transform(newsgroups.data)"
      ]
    },
    {
      "cell_type": "markdown",
      "metadata": {
        "id": "QqStVmMMnoiZ"
      },
      "source": [
        "## Dividir os dados em treinamento e teste"
      ]
    },
    {
      "cell_type": "markdown",
      "metadata": {
        "id": "vvN183q2oFle"
      },
      "source": [
        "3. Use train_test_split para dividir os dados"
      ]
    },
    {
      "cell_type": "code",
      "execution_count": null,
      "metadata": {
        "id": "n4vfvaTKoREi"
      },
      "outputs": [],
      "source": [
        "from sklearn.model_selection import train_test_split\n",
        "\n",
        "## ???"
      ]
    },
    {
      "cell_type": "code",
      "execution_count": null,
      "metadata": {
        "cellView": "form",
        "id": "9YjotTEToJy_"
      },
      "outputs": [],
      "source": [
        "# @title Resposta 3\n",
        "from sklearn.model_selection import train_test_split\n",
        "\n",
        "X_train, X_test, y_train, y_test = train_test_split(X, newsgroups.target, test_size=0.2, random_state=42)"
      ]
    },
    {
      "cell_type": "markdown",
      "metadata": {
        "id": "H6rT6NwVnyy-"
      },
      "source": [
        "## Treinar um classificador Naive Bayes (MultinomialNB)"
      ]
    },
    {
      "cell_type": "markdown",
      "metadata": {
        "id": "CY4Lw3X1w3Cl"
      },
      "source": [
        "4. Use a classe MultinomialNB para treinar o classificador."
      ]
    },
    {
      "cell_type": "code",
      "execution_count": null,
      "metadata": {
        "id": "7-3wO_YhqAtt"
      },
      "outputs": [],
      "source": [
        "from sklearn.naive_bayes import MultinomialNB\n",
        "\n",
        "clf = #?\n",
        "## ???"
      ]
    },
    {
      "cell_type": "code",
      "execution_count": null,
      "metadata": {
        "cellView": "form",
        "id": "hARpuU5xpPsW"
      },
      "outputs": [],
      "source": [
        "# @title Resposta 4\n",
        "clf = MultinomialNB()\n",
        "clf.fit(X_train, y_train)"
      ]
    },
    {
      "cell_type": "markdown",
      "metadata": {
        "id": "XdB5bXJloevW"
      },
      "source": [
        "## Fazer previsões no conjunto de teste e Calcular a acurácia"
      ]
    },
    {
      "cell_type": "markdown",
      "metadata": {
        "id": "3h97-hwQxBDV"
      },
      "source": [
        "5. Prediza os resultados dos teste e mostre a acurácia"
      ]
    },
    {
      "cell_type": "code",
      "execution_count": null,
      "metadata": {
        "id": "2EYTXiYQqrLV"
      },
      "outputs": [],
      "source": [
        "from sklearn.metrics import accuracy_score\n",
        "\n",
        "y_pred = # ?\n",
        "\n",
        "accuracy = # ?\n",
        "print(\"Acurácia:\", accuracy)"
      ]
    },
    {
      "cell_type": "code",
      "execution_count": null,
      "metadata": {
        "cellView": "form",
        "id": "S98UEZEJqroS"
      },
      "outputs": [],
      "source": [
        "# @title Resposta 5\n",
        "# Fazer previsões no conjunto de teste\n",
        "y_pred = clf.predict(X_test)\n",
        "\n",
        "# Calcular a acurácia\n",
        "accuracy = accuracy_score(y_test, y_pred)\n",
        "print(\"Acurácia:\", accuracy)"
      ]
    },
    {
      "cell_type": "markdown",
      "metadata": {
        "id": "3RUIDIMmrQ-q"
      },
      "source": [
        "## Gabarito"
      ]
    },
    {
      "cell_type": "code",
      "execution_count": null,
      "metadata": {
        "cellView": "form",
        "colab": {
          "base_uri": "https://localhost:8080/"
        },
        "id": "N8AH1j1rxxR6",
        "outputId": "b46d51ae-6922-4069-ceb3-84ba6ede79be"
      },
      "outputs": [
        {
          "name": "stdout",
          "output_type": "stream",
          "text": [
            "Acurácia: 0.8742705570291777\n"
          ]
        }
      ],
      "source": [
        "# @title Resposta Gabarito\n",
        "from sklearn.datasets import fetch_20newsgroups\n",
        "from sklearn.model_selection import train_test_split\n",
        "from sklearn.naive_bayes import MultinomialNB\n",
        "from sklearn.metrics import accuracy_score\n",
        "\n",
        "# Carregar o conjunto de dados \"20 Newsgroups\"\n",
        "# categories = ['sci.med', 'sci.space']  # Escolha duas categorias para simplificar\n",
        "# newsgroups = fetch_20newsgroups(subset='all', categories=categories, shuffle=True, random_state=42)\n",
        "newsgroups = fetch_20newsgroups(subset='all', shuffle=True, random_state=42)\n",
        "\n",
        "# Vetorizar os documentos usando a contagem de palavras\n",
        "vectorizer = CountVectorizer(stop_words='english')\n",
        "X = vectorizer.fit_transform(newsgroups.data)\n",
        "\n",
        "# Dividir os dados em treinamento e teste\n",
        "X_train, X_test, y_train, y_test = train_test_split(X, newsgroups.target, test_size=0.2, random_state=42)\n",
        "\n",
        "# Treinar um classificador Naive Bayes (MultinomialNB)\n",
        "clf = MultinomialNB()\n",
        "clf.fit(X_train, y_train)\n",
        "\n",
        "# Fazer previsões no conjunto de teste\n",
        "y_pred = clf.predict(X_test)\n",
        "\n",
        "# Calcular a acurácia\n",
        "accuracy = accuracy_score(y_test, y_pred)\n",
        "print(\"Acurácia:\", accuracy)"
      ]
    },
    {
      "cell_type": "code",
      "execution_count": null,
      "metadata": {
        "colab": {
          "base_uri": "https://localhost:8080/"
        },
        "id": "m_6esKfLrwqi",
        "outputId": "6e3d8a98-0ac9-4553-ff18-926e04f054d0"
      },
      "outputs": [
        {
          "name": "stdout",
          "output_type": "stream",
          "text": [
            "Classe: sci.space com uma probalidade de: 64.14 %\n",
            "Classe: comp.graphics com uma probalidade de: 50.05 %\n",
            "Classe: soc.religion.christian com uma probalidade de: 77.46 %\n"
          ]
        }
      ],
      "source": [
        "def pred(message):\n",
        "\n",
        "    inputs = vectorizer.transform([message]) #transformando a mensagem em um vetor de contagem de palavras\n",
        "    prob = clf.predict_proba(inputs)\n",
        "    print(f'Classe: {newsgroups.target_names[np.array(prob).argmax()]} com uma probalidade de: %.2f %%' % (100*prob[0][np.array(prob).argmax()]))\n",
        "\n",
        "message = 'lets talk, about space'\n",
        "pred(message)\n",
        "\n",
        "message = 'get an iphone screen for free now'\n",
        "pred(message)\n",
        "\n",
        "message = 'I need to have a meeting with god tomorrow'\n",
        "pred(message)"
      ]
    }
  ],
  "metadata": {
    "colab": {
      "collapsed_sections": [
        "gDuJyJ1EXjTS",
        "p5CGWVL4W-n0",
        "mZFhztfFpUJh",
        "RyWAGSSyltMH",
        "_624la952JYJ",
        "j5FI9oyz2L6l",
        "YhZNTTOq4GBu",
        "-LwuET1n_oPG",
        "eQ8N6VC942s5",
        "uB95c5YvxxRp",
        "z4GpSiPlMghx",
        "P_6QwySq0jwd",
        "QqStVmMMnoiZ",
        "H6rT6NwVnyy-",
        "XdB5bXJloevW",
        "3RUIDIMmrQ-q"
      ],
      "provenance": []
    },
    "kernelspec": {
      "display_name": "Python 3",
      "name": "python3"
    },
    "language_info": {
      "codemirror_mode": {
        "name": "ipython",
        "version": 3
      },
      "file_extension": ".py",
      "mimetype": "text/x-python",
      "name": "python",
      "nbconvert_exporter": "python",
      "pygments_lexer": "ipython3",
      "version": "3.11.0"
    }
  },
  "nbformat": 4,
  "nbformat_minor": 0
}
